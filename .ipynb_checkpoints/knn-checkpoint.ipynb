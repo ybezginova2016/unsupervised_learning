{
 "cells": [
  {
   "cell_type": "markdown",
   "id": "58357ab8",
   "metadata": {},
   "source": [
    "# KNN для поиска аномалий\n",
    "### Найти аномалии в многомерных данных можно и другим способом — методом ближайших соседей.\n",
    "\n",
    "### Метод ближайших соседей (англ. k-Nearest Neighbors, KNN) работает так: каждый объект датасета принимает за вектор и выбросы ищет в многомерном пространстве. Чем дальше объект от своих соседей, тем выше вероятность его аномальности. \n",
    "\n",
    "#### Класс KNN() находится в библиотеке PyOD (англ. Python toolkit for detecting outlying objects, «инструмент для поиска аномалий в Python»). Импортируем его из модуля pyod.models.knn:"
   ]
  },
  {
   "cell_type": "code",
   "execution_count": 16,
   "id": "14adc811",
   "metadata": {},
   "outputs": [],
   "source": [
    "import pandas as pd\n",
    "from pyod.models.knn import KNN\n",
    "from sklearn.ensemble import IsolationForest\n",
    "import warnings\n",
    "warnings.filterwarnings(\"ignore\")"
   ]
  },
  {
   "cell_type": "code",
   "execution_count": 17,
   "id": "8b5736b0",
   "metadata": {},
   "outputs": [],
   "source": [
    "df = pd.read_csv('/Users/yuliabezginova/PycharmProjects/unsupervised_learning/sales.csv')"
   ]
  },
  {
   "cell_type": "code",
   "execution_count": 18,
   "id": "b0c6ed7b",
   "metadata": {},
   "outputs": [],
   "source": [
    "data = df[['Sales', 'Profit']]"
   ]
  },
  {
   "cell_type": "markdown",
   "id": "472d329a",
   "metadata": {},
   "source": [
    "Вызовом функции fit() обучим модель на выборке:"
   ]
  },
  {
   "cell_type": "code",
   "execution_count": 19,
   "id": "cdbc804e",
   "metadata": {},
   "outputs": [
    {
     "data": {
      "text/plain": [
       "KNN(algorithm='auto', contamination=0.1, leaf_size=30, method='largest',\n",
       "  metric='minkowski', metric_params=None, n_jobs=1, n_neighbors=5, p=2,\n",
       "  radius=1.0)"
      ]
     },
     "execution_count": 19,
     "metadata": {},
     "output_type": "execute_result"
    }
   ],
   "source": [
    "model = KNN()\n",
    "model.fit(data)"
   ]
  },
  {
   "cell_type": "markdown",
   "id": "574549db",
   "metadata": {},
   "source": [
    "Когда модель обучена, можно перейти к поиску аномалий в наборе данных. Вызовем функцию predict():"
   ]
  },
  {
   "cell_type": "code",
   "execution_count": 20,
   "id": "e5f493d3",
   "metadata": {},
   "outputs": [],
   "source": [
    "predictions = model.predict(data)"
   ]
  },
  {
   "cell_type": "markdown",
   "id": "a53e3dc6",
   "metadata": {},
   "source": [
    "Функция predict() вернёт список, где «1» означает аномалию, а «0» — её отсутствие."
   ]
  },
  {
   "cell_type": "markdown",
   "id": "81bd164e",
   "metadata": {},
   "source": [
    "### Моделью KNN и изоляционным лесом найдите выбросы в данных с переменными 'Sales' и 'Profit'. Выясните, сколько аномалий совпало. Напечатайте на экране два варианта количества выбросов и число совпавших аномалий. "
   ]
  },
  {
   "cell_type": "code",
   "execution_count": 21,
   "id": "c613325e",
   "metadata": {},
   "outputs": [
    {
     "name": "stdout",
     "output_type": "stream",
     "text": [
      "Количество аномалий (KNN):  1000\n",
      "Количество аномалий (изоляционный лес):  8898\n",
      "Совпало:  1000\n"
     ]
    }
   ],
   "source": [
    "df = pd.read_csv('/Users/yuliabezginova/PycharmProjects/unsupervised_learning/sales.csv')\n",
    "data = df[['Sales', 'Profit']]\n",
    "\n",
    "model = KNN()\n",
    "# model.fit(data)\n",
    "estimation_knn = model.fit_predict(data)\n",
    "outliers_knn = estimation_knn[estimation_knn==True].sum()\n",
    "print(\"Количество аномалий (KNN): \", outliers_knn)\n",
    "\n",
    "isolation_forest = IsolationForest()\n",
    "# isolation_forest.fit(data)\n",
    "estimation_iforest = isolation_forest.fit_predict(data)\n",
    "outliers_iforest = estimation_iforest[estimation_iforest==True].sum()\n",
    "print(\"Количество аномалий (изоляционный лес): \", outliers_iforest)\n",
    "print(\"Совпало: \", (estimation_knn & estimation_iforest).sum())"
   ]
  },
  {
   "cell_type": "markdown",
   "id": "fe5d71cd",
   "metadata": {},
   "source": [
    "- Искать аномалии в одномерных данных методом boxplot;\n",
    "- Выявлять выбросы в многомерных данных изоляционным лесом;\n",
    "- Обнаруживать аномалии в многомерных данных методом ближайших соседей."
   ]
  }
 ],
 "metadata": {
  "kernelspec": {
   "display_name": "Python 3 (ipykernel)",
   "language": "python",
   "name": "python3"
  },
  "language_info": {
   "codemirror_mode": {
    "name": "ipython",
    "version": 3
   },
   "file_extension": ".py",
   "mimetype": "text/x-python",
   "name": "python",
   "nbconvert_exporter": "python",
   "pygments_lexer": "ipython3",
   "version": "3.10.9"
  }
 },
 "nbformat": 4,
 "nbformat_minor": 5
}
