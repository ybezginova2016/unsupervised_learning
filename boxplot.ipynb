{
 "cells": [
  {
   "attachments": {},
   "cell_type": "markdown",
   "id": "30c397a3",
   "metadata": {},
   "source": [
    "# Диаграмма размаха\n",
    "\n",
    "Узнаем, как находить выбросы в одномерных данных.\n",
    "Представим, что значения признака — это мешок чисел. Нужно найти числа, сильно отличающиеся от остальных. Для этого сравним их с медианой на диаграмме размаха (англ. boxplot), или «ящике с усами». \n",
    "\n",
    "Повторим обозначения. Верхняя и нижняя границы ящика — третья и первая квартиль (75% и 25% значений). Посередине обозначена медиана (50% значений). «Усы» простираются вверх и вниз от границ ящика на расстояние, равное 1.5 межквартильным размахам (IQR, от англ. interquartile range). Выбросы указаны за пределами усов — максимумом и минимумом.\n",
    "\n",
    "Межквартильный размах IQR вычисляется так:\n",
    "![image.png](attachment:image.png)\n",
    "\n",
    "Чем больше коэффициент k, тем меньше объектов будут считаться выбросами. Обычно его указывают равным 1.5.\n",
    "В этой теме будем работать с данными интернет-магазина офисных товаров. В датасете содержится информация о 9994 продажах. Построим ящик с усами для признака 'Sales' (англ. «продажи»):\n",
    "\n",
    "```import pandas as pd\n",
    "import matplotlib.pyplot as plt\n",
    "df = pd.read_csv('/datasets/sales.csv')\n",
    "\n",
    "plt.boxplot(df['Sales'].values)\n",
    "plt.ylabel('Сумма продаж')\n",
    "plt.title(\"Выбросы в сумме продаж\")\n",
    "plt.show() \n",
    "```\n",
    "Средний чек бо́льшей части покупок — 500–1000 $. Продажи от 5 до 20 тысяч долларов — аномалии (они отмечены кругами).\n",
    "Диаграмма даёт информацию обо всех выбросах. Она хранится в записи \"fliers\" (на англ. синоним «аномалии») внутри объекта boxplot. Вызовом функции \n",
    "```get_data()``` из объектов получим числа. Нужные значения отделены индексами.\n",
    "```\n",
    "boxplot = plt.boxplot(df['Sales'].values)\n",
    "outliers = list(boxplot[\"fliers\"][0].get_data()[1])\n",
    "print(\"Выбросов в продажах: \", len(outliers))\n",
    "```\n",
    "Получили:\n",
    "Выбросов в продажах:  1167 "
   ]
  },
  {
   "cell_type": "markdown",
   "id": "1074fe1c",
   "metadata": {},
   "source": [
    "### 1) Найдите в датасете аномалии по признаку 'Profit'. Из ящика с усами возьмите список аномалий и запишите результат в переменной outliers. Отфильтруйте исходный датафрейм функцией isin() и сохраните список объектов с аномалиями в переменной df_outliers."
   ]
  },
  {
   "cell_type": "code",
   "execution_count": 4,
   "id": "a33cdbe1",
   "metadata": {},
   "outputs": [],
   "source": [
    "import numpy as np\n",
    "import pandas as pd\n",
    "import matplotlib.pyplot as plt\n",
    "\n",
    "import warnings\n",
    "warnings.filterwarnings(\"ignore\")"
   ]
  },
  {
   "cell_type": "code",
   "execution_count": 3,
   "id": "64c07112",
   "metadata": {},
   "outputs": [],
   "source": [
    "df = pd.read_csv('/Users/yuliabezginova/PycharmProjects/unsupervised_learning/sales.csv')"
   ]
  },
  {
   "cell_type": "markdown",
   "id": "36add4e3",
   "metadata": {},
   "source": [
    "Диаграмма даёт информацию обо всех выбросах. Она хранится в записи \"fliers\" (на англ. синоним «аномалии») внутри объекта boxplot. Вызовом функции get_data() из объектов получим числа. Нужные значения отделены индексами."
   ]
  },
  {
   "cell_type": "code",
   "execution_count": 9,
   "id": "7a216690",
   "metadata": {},
   "outputs": [
    {
     "name": "stdout",
     "output_type": "stream",
     "text": [
      "Количество аномалий:  1881\n",
      "Длина датасета:  9994\n",
      "Процент аномалий:  18.82 %\n"
     ]
    },
    {
     "data": {
      "image/png": "[encoded data removed]",
      "text/plain": [
       "<Figure size 640x480 with 1 Axes>"
      ]
     },
     "metadata": {},
     "output_type": "display_data"
    }
   ],
   "source": [
    "boxplot = plt.boxplot(df['Profit'].values)\n",
    "outliers = list(boxplot[\"fliers\"][0].get_data()[1])\n",
    "\n",
    "df_outliers = df[df[\"Profit\"].isin(outliers)]\n",
    "\n",
    "print(\"Количество аномалий: \", len(df_outliers))\n",
    "print(\"Длина датасета: \", len(df))\n",
    "print(\"Процент аномалий: \", round(len(df_outliers) / len(df) * 100, 2), '%')"
   ]
  },
  {
   "cell_type": "markdown",
   "id": "0450ad3a",
   "metadata": {},
   "source": [
    "### Почти 20% заказов - это выбросы. Перепроверим этот факт другим алгоритмом - изоляционным лесом (isolation forest)."
   ]
  }
 ],
 "metadata": {
  "kernelspec": {
   "display_name": "Python 3 (ipykernel)",
   "language": "python",
   "name": "python3"
  },
  "language_info": {
   "codemirror_mode": {
    "name": "ipython",
    "version": 3
   },
   "file_extension": ".py",
   "mimetype": "text/x-python",
   "name": "python",
   "nbconvert_exporter": "python",
   "pygments_lexer": "ipython3",
   "version": "3.10.9"
  }
 },
 "nbformat": 4,
 "nbformat_minor": 5
}
